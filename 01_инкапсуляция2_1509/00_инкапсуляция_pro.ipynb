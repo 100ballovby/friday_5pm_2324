{
 "cells": [
  {
   "cell_type": "markdown",
   "id": "b805cbd5-3ffd-4ece-a9bc-51bd6113d9e1",
   "metadata": {
    "ExecuteTime": {
     "end_time": "2023-09-15T14:47:43.846518Z",
     "start_time": "2023-09-15T14:47:43.839739Z"
    }
   },
   "source": [
    "# Инкапсуляция. PRO\n",
    "\n",
    "<p style=\"font-size: 18px;\"><b>Инкапсуляция</b> - способ сокрытия данных класса от внешнего вмешательства.</p>\n",
    "\n",
    "<p style=\"font-size: 18px;\">Несмотря на большое количество интерпретаций можно выделить общие черты для понятия:</p>\n",
    "\n",
    "<ul style=\"font-size: 18px;\">\n",
    "    <li>связь данных класса с методами, которые этими данными управляют;</li>\n",
    "    <li>набор инструментов для управления доступом к данным или методам, которые управляют данными.</li>\n",
    "</ul>\n",
    "\n",
    "## Инкапсуляция как связь\n",
    "\n",
    "<p style=\"font-size: 18px;\">Если интерпретировать таким образом, то любой класс, в котором есть хотя бы один параметр и один метод, очень явно демонстрирует этот принцип:</p>"
   ]
  },
  {
   "cell_type": "code",
   "execution_count": 2,
   "id": "4069f321-974f-4da9-8a3b-e56e985e79d2",
   "metadata": {},
   "outputs": [
    {
     "name": "stdout",
     "output_type": "stream",
     "text": [
      "Serial number is c91xkl421\n"
     ]
    }
   ],
   "source": [
    "class Phone:\n",
    "    serial_number = 'c91xkl421'\n",
    "    def print_number(self):\n",
    "        print(f'Serial number is {self.serial_number}')\n",
    "\n",
    "\n",
    "p = Phone()\n",
    "p.print_number()"
   ]
  },
  {
   "cell_type": "markdown",
   "id": "fe8bff4e-7f28-4f72-8ec4-8326df66d290",
   "metadata": {},
   "source": [
    "## Инкапсуляция как способ управления данными\n",
    "\n",
    "<p style=\"font-size: 18px;\">В С++ есть три модификатора доступа: <code><b>public</b></code>, <code><b>private</b></code>, <code><b>protected</b></code>.</p>\n",
    "\n",
    "<p style=\"font-size: 18px;\">Разница между уровнями доступа следующая:</p>\n",
    "\n",
    "<ul style=\"font-size: 18px;\">\n",
    "    <li><code><b>public</b></code> - данные открыты всем и всему (в Python установлен по умолчанию);</li>\n",
    "    <li><code><b>protected</b></code> - данные условно сокрыты, но доступ к ним можно получить не только внутри класса, но и извне при соблюдении определенных условий (в Python достаточно знать название параметра);</li>\n",
    "    <li><code><b>private</b></code> - данные сокрыты от внешнего вмешательства и обращаться к ним можно только внутри класса.</li>\n",
    "</ul>\n",
    "\n",
    "<p style=\"font-size: 18px;\">Так как в Python отстуствуют модификаторы, их сделали в виде условных значков:</p>\n",
    "<ul style=\"font-size: 18px;\">\n",
    "    <li>публичный <code><b>public</b></code> представляет собой обычное название метода или параметра класса: <code>serial_number</code>;</li>\n",
    "    <li>защищенный <code><b>protected</b></code> содержит в названии параметра или метода нижнее подчеркивание, которое ставится первым символом: <code>_sortArray(self, array)</code>;</li>\n",
    "    <li>приватный <code><b>private</b></code> содержит в названии параметра или метода два нижних подчеркивания, которые стоят первыми символами: <code>__upLevel</code>. <span style=\"color: red\">ЭТО НЕ ОТНОСИТСЯ К МЕТОДУ <code>__init__</code> и прочим, они вообще не могут иметь модификаторов доступа, потому что это методы класса <code>object</code>!!!</span>.</li>\n",
    "</ul>"
   ]
  },
  {
   "cell_type": "code",
   "execution_count": 3,
   "id": "1d427398-ae98-4568-b203-8966844fb1d1",
   "metadata": {},
   "outputs": [
    {
     "name": "stdout",
     "output_type": "stream",
     "text": [
      "Charing...\n",
      "Charging cycles: 1\n"
     ]
    }
   ],
   "source": [
    "class Laptop:\n",
    "    __battery_cycles = 0  # private параметр\n",
    "    def __init__(self, n):\n",
    "        self.name = n  # публичный параметр\n",
    "\n",
    "    def charge(self):  # публичный метод\n",
    "        print('Charing...')\n",
    "        self.__battery_cycles += 1  # публичный метод может менять приватные параметры\n",
    "        print(f'Charging cycles: {self.__battery_cycles}')\n",
    "\n",
    "\n",
    "l1 = Laptop('Компьютер Андрея')\n",
    "l1.__charging_cycles = 500  # обращение к приватному параметру ничего не даст\n",
    "l1.charge()"
   ]
  },
  {
   "cell_type": "markdown",
   "id": "484d81c1-f963-4aaa-a868-70dc13c0dbb9",
   "metadata": {},
   "source": [
    "<p style=\"font-size: 18px;\">Как видите, обращение к приватным параметрам вне класса не имеет никакого смысла, потому что заменить их значение нельзя.</p>\n",
    "\n",
    "<p style=\"font-size: 18px;\">Защищенные параметры или методы ведут себя похожим образом, они не показываются в подсказках, когда вы пытаетесь к ним обратиться через параметр класса, но при этом, если вы знаете название такого параметра (или метода), то обратиться к нему и поменять в нем что-то <b>можно</b>.</p>"
   ]
  },
  {
   "cell_type": "code",
   "execution_count": 5,
   "id": "8c4de26f-6b9b-4e22-97f6-5ac1bc294321",
   "metadata": {},
   "outputs": [
    {
     "name": "stdout",
     "output_type": "stream",
     "text": [
      "Charing...\n",
      "Charging cycles: 1\n"
     ]
    }
   ],
   "source": [
    "import string\n",
    "import random\n",
    "\n",
    "\n",
    "class Laptop:\n",
    "    __battery_cycles = 0  # private параметр\n",
    "    _serial_number = ''  # protected параметр\n",
    "    def __init__(self, n):\n",
    "        self.name = n  # публичный параметр\n",
    "        self._set_serial_number()  # в момент создания экземпляра класса серийный номер назначается\n",
    "\n",
    "    def charge(self):  # публичный метод\n",
    "        print('Charing...')\n",
    "        self.__battery_cycles += 1  # публичный метод может менять приватные параметры\n",
    "        print(f'Charging cycles: {self.__battery_cycles}')\n",
    "\n",
    "    def _set_serial_number(self):  # protected метод\n",
    "        l = string.ascii_uppercase + string.digits  # весь алфавит (большие буквы) + цифры\n",
    "        s_n = ''\n",
    "        for i in range(10):\n",
    "            s_n += random.choice(l)  # серийник собирается случайно из списка символов\n",
    "        self._serial_number = s_n\n",
    "\n",
    "\n",
    "l1 = Laptop('Компьютер Андрея')\n",
    "# l1.__charging_cycles = 500  # обращение к приватному параметру ничего не даст\n",
    "l1.charge()\n"
   ]
  },
  {
   "cell_type": "markdown",
   "id": "f91f7a03-409a-4218-baf5-9bea52794675",
   "metadata": {},
   "source": [
    "<img src=\"protected.png\" width=\"50%\">\n",
    "\n",
    "<p style=\"font-size: 18px;\">Несмотря на то, что есть защищенные параметры и методы, вы все еще можете к ним обращаться и даже менять значения параметров, если вы знаете, как они называются:</p>"
   ]
  },
  {
   "cell_type": "code",
   "execution_count": 8,
   "id": "35c6b6d0-c025-4e86-b8ad-e10813a2f548",
   "metadata": {},
   "outputs": [
    {
     "name": "stdout",
     "output_type": "stream",
     "text": [
      "привет\n",
      "8Q3MKUYTJK\n",
      "привет\n"
     ]
    }
   ],
   "source": [
    "print(l1._serial_number)\n",
    "l1._set_serial_number()\n",
    "print(l1._serial_number)\n",
    "l1._serial_number = 'привет'\n",
    "print(l1._serial_number)"
   ]
  },
  {
   "cell_type": "markdown",
   "id": "e30d254f-9dc1-4852-8967-e0857464648a",
   "metadata": {},
   "source": [
    "<p style=\"font-size: 18px;\">Всё не настолько радужно, как этого бы хотелось, потому что приватные параметры и методы тоже доступны, если вы соблюдаете определенный шаблон. Обычно так нельзя делать ни в одном языке программирования, но Python предоставляет возможность обхода своей же инкапсуляции.</p>\n",
    "\n",
    "<p style=\"font-size: 18px;\"><code>название_экземпляра<b style=\"color: blue;\">._</b>название_класса<b style=\"color: blue;\">.__</b>название_параметра/название_метода</code></p>\n",
    "\n",
    "<p style=\"font-size: 18px;\">Используя вот этот формат обращения, вы можете получить доступ, вызвать приватный метод, заменить значение приватного параметра вне класса.</p>\n"
   ]
  },
  {
   "cell_type": "code",
   "execution_count": null,
   "id": "9f8d8355-c9c4-4266-b0eb-6067ec19d9d9",
   "metadata": {},
   "outputs": [],
   "source": []
  }
 ],
 "metadata": {
  "kernelspec": {
   "display_name": "Python 3 (ipykernel)",
   "language": "python",
   "name": "python3"
  },
  "language_info": {
   "codemirror_mode": {
    "name": "ipython",
    "version": 3
   },
   "file_extension": ".py",
   "mimetype": "text/x-python",
   "name": "python",
   "nbconvert_exporter": "python",
   "pygments_lexer": "ipython3",
   "version": "3.11.2"
  }
 },
 "nbformat": 4,
 "nbformat_minor": 5
}
