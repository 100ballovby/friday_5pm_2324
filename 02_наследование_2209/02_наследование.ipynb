{
 "cells": [
  {
   "cell_type": "markdown",
   "id": "114f66ad-9b6f-442a-814b-efd9f836bbbf",
   "metadata": {
    "collapsed": true,
    "jupyter": {
     "outputs_hidden": true
    }
   },
   "source": [
    "# Наследование\n",
    "\n",
    "<p style=\"font-size: 18px\">Наследование позволяет создать класс на основе существующего класса, добавив к его полям и методам все публичные поля и методы класса-родителя.</p>\n",
    "\n",
    "<p style=\"font-size: 18px\">Ключевыми понятиями наследования являются <b>надкласс (класс-родитель/суперкласс)</b> и <b>подкласс (класс-наследник/дочерний)</b>. Дочерние классы наследуют от суперкласса (родителя) все публичные атрибуты и методы. Суперклассы еще иногда называются базовыми (base class).</p>\n",
    "\n",
    "<p style=\"font-size: 18px\">Наследование имеет свой специфический синтаксис:</p>\n",
    "<pre><code>class <i>название_класса</i><b>(класс-родитель)</b>:\n",
    "                методы_класса\n",
    "</code></pre>\n",
    "\n",
    "<p style=\"font-size: 18px\">Предположим, что мы пишем игру, в которой есть оружие, которое должно стрелять. Среди оружия у нас есть:</p>\n",
    "\n",
    "<ul style=\"font-size: 18px\">\n",
    "    <li>Дигл</li>\n",
    "    <li>Калаш</li>\n",
    "    <li>AWP Драгонлор</li>\n",
    "</ul>\n",
    "\n",
    "<p style=\"font-size: 18px\">в данном случае я могу сказать, что все это оружие работает по одному и тому же алгоритму. Его можно взять в руки, им можно стрелять, им можно целиться и оно имеет колижн-модель. Вместо того, чтобы переписывать из класса в класс одни и те же параметры, я могу их просто унаследовать: я создам базовый класс \"оружие\" и от него уже начну наследовать остальные пушки. При этом в базовом классе будет полностью описано поведение оружия и все необходимые для него элементы.</p>"
   ]
  },
  {
   "cell_type": "code",
   "execution_count": 13,
   "id": "6eafb823-ceb7-49b9-a852-617a74ff3f24",
   "metadata": {},
   "outputs": [
    {
     "name": "stdout",
     "output_type": "stream",
     "text": [
      "piu-piu\n",
      "ratatatata\n",
      "chik-chik\n",
      "ratatatata\n",
      "My price is $100000\n"
     ]
    }
   ],
   "source": [
    "class Weapon:  # базовый класс оружия со всеми необходимыми мне параметрами.\n",
    "    def __init__(self, bullets, skin, chance_get):\n",
    "        self.capacity = bullets\n",
    "        self.skin = skin\n",
    "        self.stikers_list = []\n",
    "        self.chance_get = chance_get\n",
    "\n",
    "    def fire(self):\n",
    "        return 'ratatatata'\n",
    "\n",
    "    def aim(self):\n",
    "        return 'vizhu'\n",
    "\n",
    "    def reload(self):\n",
    "        return 'chik-chik'\n",
    "\n",
    "\n",
    "class DesertEagle(Weapon):\n",
    "    def laser_aim(self):\n",
    "        return 'piu-piu'\n",
    "\n",
    "\n",
    "class AK47(Weapon):\n",
    "    def grenade_fire(self):\n",
    "        return 'babah'\n",
    "\n",
    "\n",
    "class Dragonlore(Weapon):\n",
    "    def show_off(self):\n",
    "        return 'My price is $100000'\n",
    "\n",
    "\n",
    "awp = Dragonlore(5, 'THE BEST SKIN EVER!!!!', 0.0001)\n",
    "digle = DesertEagle(9, 'Epic', 0.05)\n",
    "\n",
    "print(digle.laser_aim())  # метод класса DesertEagle\n",
    "print(digle.fire())  # метод был заимствован из класса-родителя \n",
    "\n",
    "\n",
    "print(awp.reload())\n",
    "print(awp.fire())\n",
    "print(awp.show_off())"
   ]
  },
  {
   "cell_type": "markdown",
   "id": "016d448c-87b3-4322-a346-7332b711fb59",
   "metadata": {},
   "source": [
    "# Виды наследования\n",
    "\n",
    "<ul style=\"font-size: 18px;\">\n",
    "    <li><b>Простое наследование</b>. Простое наследование подразумевает, что подкласс просто забирает все атрибуты и методы класса-родителя;</li>\n",
    "    <li><b>Переопределение</b>. Полное переопределение одного или нескольких методов класса-родителя в дочернем классе;</li>\n",
    "    <li><b>Дополнение</b>. Расширение в дочернем классе методов класса-родителя.</li>\n",
    "</ul>\n",
    "\n",
    "# Простое наследование\n",
    "\n",
    "<p style=\"font-size: 18px;\">Его вы видели в примере про оружие. Там я просто наследовал все методы и параметры базового класса в дочерние. Общие данные и поведение для всего оружия были вынесены в класс <code>Weapon</code>, а частности были расставлены в дочерние классы.</p>"
   ]
  },
  {
   "cell_type": "code",
   "execution_count": 6,
   "id": "1c8d7744-1f32-4ab6-b190-e53520643dd9",
   "metadata": {},
   "outputs": [
    {
     "name": "stdout",
     "output_type": "stream",
     "text": [
      "vizhu\n",
      "piu-piu\n"
     ]
    }
   ],
   "source": [
    "class Weapon:  # базовый класс оружия со всеми необходимыми мне параметрами.\n",
    "    def __init__(self, bullets, skin, chance_get):\n",
    "        self.capacity = bullets\n",
    "        self.skin = skin\n",
    "        self.stikers_list = []\n",
    "        self.chance_get = chance_get\n",
    "\n",
    "    def fire(self):\n",
    "        return 'ratatatata'\n",
    "\n",
    "    def aim(self):\n",
    "        return 'vizhu'\n",
    "\n",
    "    def reload(self):\n",
    "        return 'chik-chik'\n",
    "\n",
    "\n",
    "class DesertEagle(Weapon):\n",
    "    def laser_aim(self):\n",
    "        return 'piu-piu'\n",
    "\n",
    "\n",
    "d1 = DesertEagle(9, 'Epic', 0.05)\n",
    "print(d1.aim())\n",
    "print(d1.laser_aim())"
   ]
  },
  {
   "cell_type": "markdown",
   "id": "5ae1cca9-a386-47b8-b62d-54aaae579b45",
   "metadata": {},
   "source": [
    "# Полное переопределение\n",
    "\n",
    "<p style=\"font-size: 18px;\">Предположим, что метод стрельбы в АК-47, должен отличаться от всех методов стрельбы, которые есть в игре.</p>"
   ]
  },
  {
   "cell_type": "code",
   "execution_count": 12,
   "id": "8c03b2b3-c68c-40ee-8e1f-8ad15b6b74d1",
   "metadata": {},
   "outputs": [
    {
     "name": "stdout",
     "output_type": "stream",
     "text": [
      "Так стреляет обычное оружие ratatatata\n",
      "Так стреляет АК47 ratatatru-tru-tutututu\n"
     ]
    }
   ],
   "source": [
    "class Weapon:  # базовый класс оружия со всеми необходимыми мне параметрами.\n",
    "    def __init__(self, bullets, skin, chance_get):\n",
    "        self.capacity = bullets\n",
    "        self.skin = skin\n",
    "        self.stikers_list = []\n",
    "        self.chance_get = chance_get\n",
    "\n",
    "    def fire(self):\n",
    "        return 'ratatatata'\n",
    "\n",
    "    def aim(self):\n",
    "        return 'vizhu'\n",
    "\n",
    "    def reload(self):\n",
    "        return 'chik-chik'\n",
    "\n",
    "\n",
    "class AK47(Weapon):\n",
    "    def grenade_fire(self):\n",
    "        return 'babah'\n",
    "\n",
    "    # хочу полностью переписать метод стрельбы\n",
    "    def fire(self, fire_sound):\n",
    "        return f'ratata{fire_sound}'\n",
    "\n",
    "\n",
    "w1 = Weapon(12, 'Epic', 0.3)\n",
    "print('Так стреляет обычное оружие', w1.fire())\n",
    "\n",
    "ak47 = AK47(45, 'Epic', 0.2)\n",
    "print('Так стреляет АК47', ak47.fire('tru-tru-tutututu'))"
   ]
  },
  {
   "cell_type": "markdown",
   "id": "e3a4ce14-f438-4229-ac48-46b986420050",
   "metadata": {},
   "source": [
    "<p style=\"font-size: 18px;\">Желательно, чтобы вы избегали подобного вида наследования, потому что если у вас внезапно появилась необходимость переписать родительский метод, значит в нем есть проблема и он написан неправильно. В некоторых ситуациях переопределение необходимо, если вы пишете условно базовый метод загрузки файла, а затем в дочернем классе переписываете его под загрузку определенного вида файлов (картинок), в таком случае можно. Но в нормальной ситуации методы класса-родителя желательно не переопределять.</p>\n",
    "\n",
    "# Дополнение (расширение) метода родительского класса \n",
    "\n",
    "<p style=\"font-size: 18px;\">Часто требуется добавить в дочернем классе какие-то дополнительные, специфические вещи именно для наследника. То есть базовому классу эти вещи не нужны, потому что они незначительны для большинства сущностей программы, но одному из наследников необходим специфический параметр, в этом случае нужно дополнить один из методов класса-родителя. Например, я хочу, чтобы при создании экземпляра AWP, сразу указывалось базовый набор патронов. С одной стороны, я могу написать вот так:</p>"
   ]
  },
  {
   "cell_type": "code",
   "execution_count": 17,
   "id": "ac61c3f7-b243-4837-b975-852d69e7175b",
   "metadata": {},
   "outputs": [
    {
     "name": "stdout",
     "output_type": "stream",
     "text": [
      "Dragonlore's shot limit is 5\n"
     ]
    }
   ],
   "source": [
    "class Weapon:  # базовый класс оружия со всеми необходимыми мне параметрами.\n",
    "    def __init__(self, bullets, skin, chance_get):\n",
    "        self.capacity = bullets\n",
    "        self.skin = skin\n",
    "        self.stikers_list = []\n",
    "        self.chance_get = chance_get\n",
    "\n",
    "    def fire(self):\n",
    "        return 'ratatatata'\n",
    "\n",
    "    def aim(self):\n",
    "        return 'vizhu'\n",
    "\n",
    "    def reload(self):\n",
    "        return 'chik-chik'\n",
    "\n",
    "\n",
    "class Dragonlore(Weapon):\n",
    "    def __init__(self, bullets, skin, chance_get, shot_limit):\n",
    "        self.capacity = bullets\n",
    "        self.skin = skin\n",
    "        self.stikers_list = []\n",
    "        self.chance_get = chance_get\n",
    "        self.shot_limit = shot_limit\n",
    "    def show_off(self):\n",
    "        return 'My price is $100000'\n",
    "\n",
    "awp = Dragonlore(5, 'Epic', 0.001, 5)\n",
    "print(f'Dragonlore\\'s shot limit is {awp.shot_limit}')"
   ]
  },
  {
   "cell_type": "markdown",
   "id": "73f09c99-54ba-4715-903a-957c6339eff2",
   "metadata": {},
   "source": [
    "<p style=\"font-size: 18px;\">То, что написано выше - это не совсем дополнение, это скорее полное переопределение конструктора класса, чего делать вообще нельзя. Так как основная часть метода-конструктора совпадает, переписывать его полностью нет никакой необходимости (это фу).</p>\n",
    "\n",
    "<p style=\"font-size: 18px;\">Для дополнения метода-конструктора новыми полями, используется ключевое слово <code>super()</code>. Оно позволяет выгрузить весь конструктор из класса-родителя и дополнить его необходимыми полями.</p>"
   ]
  },
  {
   "cell_type": "code",
   "execution_count": 19,
   "id": "5a4cca92-7d21-4c7a-a1f2-7ad60b14d02e",
   "metadata": {},
   "outputs": [
    {
     "name": "stdout",
     "output_type": "stream",
     "text": [
      "Dragonlore's shot limit is 5\n"
     ]
    }
   ],
   "source": [
    "class Weapon:  # базовый класс оружия со всеми необходимыми мне параметрами.\n",
    "    def __init__(self, bullets, skin, chance_get):\n",
    "        self.capacity = bullets\n",
    "        self.skin = skin\n",
    "        self.stikers_list = []\n",
    "        self.chance_get = chance_get\n",
    "\n",
    "    def fire(self):\n",
    "        return 'ratatatata'\n",
    "\n",
    "    def aim(self):\n",
    "        return 'vizhu'\n",
    "\n",
    "    def reload(self):\n",
    "        return 'chik-chik'\n",
    "\n",
    "\n",
    "class Dragonlore(Weapon):\n",
    "    def __init__(self, bullets, skin, chance_get, shot_limit):  # правильный вариант дополнения метода класса-родителя\n",
    "        super().__init__(bullets, skin, chance_get)\n",
    "        self.shot_limit = shot_limit\n",
    "    def show_off(self):\n",
    "        return 'My price is $100000'\n",
    "\n",
    "awp = Dragonlore(5, 'Epic', 0.001, 5)\n",
    "print(f'Dragonlore\\'s shot limit is {awp.shot_limit}')"
   ]
  },
  {
   "cell_type": "markdown",
   "id": "ad3576ec-42af-4c8e-a6ec-f8358c3ae16d",
   "metadata": {},
   "source": [
    "<p style=\"font-size: 18px; color: red; font-weight: bold;\">Важно помнить, что дополнение работает ТОЛЬКО с конструкторами классов. В случае дополнения обычных методов, будет работать переопределение, потому что просто так дополнить обычный метод класса НЕЛЬЗЯ.</p>"
   ]
  }
 ],
 "metadata": {
  "kernelspec": {
   "display_name": "Python 3 (ipykernel)",
   "language": "python",
   "name": "python3"
  },
  "language_info": {
   "codemirror_mode": {
    "name": "ipython",
    "version": 3
   },
   "file_extension": ".py",
   "mimetype": "text/x-python",
   "name": "python",
   "nbconvert_exporter": "python",
   "pygments_lexer": "ipython3",
   "version": "3.11.2"
  }
 },
 "nbformat": 4,
 "nbformat_minor": 5
}
