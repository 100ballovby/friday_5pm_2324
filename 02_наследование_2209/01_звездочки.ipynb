{
 "cells": [
  {
   "cell_type": "markdown",
   "id": "f64867be-bee7-4ac5-9450-08151d60bcb4",
   "metadata": {
    "ExecuteTime": {
     "end_time": "2023-09-22T14:54:36.950135Z",
     "start_time": "2023-09-22T14:54:36.942106Z"
    },
    "collapsed": true,
    "jupyter": {
     "outputs_hidden": true
    }
   },
   "source": [
    "<p style=\"font-size: 18px\">Функции и методы в Python могут принимать неограниченное количество аргументов. Для включения этого функционала используется специальный оператор.</p>\n",
    "\n",
    "# Оператор <code>*</code>\n",
    "\n",
    "<p style=\"font-size: 18px\">Оператор <code>*</code> используется для упаковки и распаковки итерируемых объектов: списки, кортежи и словари. Если оператор стоит перед итерируемым объектом во время вызова функции (метода), оператор распаковывает этот объект. Элементы итерируемого объекта передаются в качестве аргумента функции (метода).</p>"
   ]
  },
  {
   "cell_type": "code",
   "execution_count": 5,
   "id": "1738678d782e1257",
   "metadata": {
    "collapsed": false,
    "jupyter": {
     "outputs_hidden": false
    }
   },
   "outputs": [
    {
     "name": "stdout",
     "output_type": "stream",
     "text": [
      "16\n",
      "Список без звездочки выглядит так: [5, 2, 9]\n",
      "Список со звездочкой выглядит так: 5 2 9\n"
     ]
    }
   ],
   "source": [
    "def sum_of_three(a, b, c):\n",
    "    return a + b + c\n",
    "\n",
    "\n",
    "l1 = [5, 2, 9]\n",
    "# print(sum_of_three(l1)) <- в данном случае список ушел в параметр 'a', а 'b' и 'c' остались пустыми, поэтому функция работать не будет\n",
    "print(sum_of_three(*l1))\n",
    "print('Список без звездочки выглядит так:', l1)\n",
    "print('Список со звездочкой выглядит так:', *l1)"
   ]
  },
  {
   "cell_type": "markdown",
   "id": "50d0d55d-7e9f-4928-a545-d0e6505403dc",
   "metadata": {},
   "source": [
    "<p style=\"font-size: 18px\">Все работает, потому что оператор <code>*</code> распаковал список, сделал 3 отдельных значения и передал их на необходимые функции места.</p>\n",
    "\n",
    "<p style=\"font-size: 18px\">Оператор <code>*</code> можно использовать в качестве распаковщика итерабельных переменных. Это позволит вам присваивать значения коллекций разным переменным.</p>"
   ]
  },
  {
   "cell_type": "code",
   "execution_count": 12,
   "id": "e20cac90-3939-48ff-b14f-f2bed11fe766",
   "metadata": {},
   "outputs": [
    {
     "name": "stdout",
     "output_type": "stream",
     "text": [
      "a = 33\n",
      "b = 36\n",
      "c = 30\n",
      "*rest = [40, 46, 4, 45, 24, 18, 45, 21, 11, 16, 42, 10, 6, 41, 26, 34, 13, 27, 19, 30, 32, 8, 48, 25, 32, 4, 21, 16, 8, 46, 18, 35, 48, 40, 19, 27, 38, 48, 2, 21, 32, 13, 37, 45, 38, 48, 39]\n"
     ]
    }
   ],
   "source": [
    "l2 = [33, 36, 30, 40, 46, 4, 45, 24, 18, 45, 21, 11, 16, 42, 10, 6, 41, 26, 34, 13, 27, 19, 30, 32, 8, 48, 25, 32, 4, 21, 16, 8, 46, 18, 35, 48, 40, 19, 27, 38, 48, 2, 21, 32, 13, 37, 45, 38, 48, 39]\n",
    "\n",
    "a, b, c, *rest = l2\n",
    "print(f'a = {a}')\n",
    "print(f'b = {b}')\n",
    "print(f'c = {c}')\n",
    "print(f'*rest = {rest}')"
   ]
  },
  {
   "cell_type": "markdown",
   "id": "9c7fa290-360d-43c6-9427-29e178eef7d4",
   "metadata": {},
   "source": [
    "<p style=\"font-size: 18px\">Помимо прочего оператор <code>*</code> можно использовать для того, чтобы функция (метод) могла принимать неограниченное количество аргументов.</p>"
   ]
  },
  {
   "cell_type": "code",
   "execution_count": 17,
   "id": "ce0437fe-68b2-4b53-8d3c-9897835b6585",
   "metadata": {},
   "outputs": [
    {
     "data": {
      "text/plain": [
       "251"
      ]
     },
     "execution_count": 17,
     "metadata": {},
     "output_type": "execute_result"
    }
   ],
   "source": [
    "def sum_all(*a):\n",
    "    sum = 0\n",
    "    for i in a:\n",
    "        sum += i\n",
    "    return sum\n",
    "\n",
    "sum_all(4, 5, 6, 2, 1, 7, 6, 12, 89, 22, 3, 1, 32, 5, 2, 54)"
   ]
  },
  {
   "cell_type": "markdown",
   "id": "e69477d0-2db7-4e73-896f-5d6550e1ff83",
   "metadata": {},
   "source": [
    "<p style=\"font-size: 18px\">Предположим, что у меня есть класс студент, которому необходимо написать метод, который будет добавлять в его табель оценки. Оценки могут быть переданы как 1, так и несколько штук, необходимо сделать так, чтобы добавление оценок реализовывалось одним методм.</p>"
   ]
  },
  {
   "cell_type": "code",
   "execution_count": 18,
   "id": "cb5f9757-66fd-41b7-9408-926e98fc41bb",
   "metadata": {},
   "outputs": [
    {
     "name": "stdout",
     "output_type": "stream",
     "text": [
      "4.125\n"
     ]
    }
   ],
   "source": [
    "class Student:\n",
    "    def __init__(self, n, a, id):\n",
    "        self.name = n\n",
    "        self.age = a\n",
    "        self.id_number = id\n",
    "        self.__grade_list = []\n",
    "\n",
    "    # пишу метод для добавления оценок \n",
    "    def add_grade(self, *grades):\n",
    "        for grade in grades:\n",
    "            self.__grade_list.append(grade)\n",
    "\n",
    "    # пишу метод для подсчета среднего балла студента \n",
    "    def get_average(self):\n",
    "        return sum(self.__grade_list) / len(self.__grade_list)\n",
    "\n",
    "\n",
    "bill = Student('Bill', 21, 543627)\n",
    "bill.add_grade(5)\n",
    "bill.add_grade(5, 5, 5, 3, 4, 5, 1)\n",
    "print(bill.get_average())"
   ]
  },
  {
   "cell_type": "code",
   "execution_count": null,
   "id": "4dc4ebd0-fd8a-44c5-8d82-33cffc849285",
   "metadata": {},
   "outputs": [],
   "source": []
  }
 ],
 "metadata": {
  "kernelspec": {
   "display_name": "Python 3 (ipykernel)",
   "language": "python",
   "name": "python3"
  },
  "language_info": {
   "codemirror_mode": {
    "name": "ipython",
    "version": 3
   },
   "file_extension": ".py",
   "mimetype": "text/x-python",
   "name": "python",
   "nbconvert_exporter": "python",
   "pygments_lexer": "ipython3",
   "version": "3.11.2"
  }
 },
 "nbformat": 4,
 "nbformat_minor": 5
}
